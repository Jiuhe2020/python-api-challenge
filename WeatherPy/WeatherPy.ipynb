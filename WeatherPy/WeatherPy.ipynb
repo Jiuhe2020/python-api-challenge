{
 "cells": [
  {
   "cell_type": "markdown",
   "metadata": {},
   "source": [
    "# WeatherPy\n",
    "----\n",
    "\n",
    "#### Note\n",
    "* Instructions have been included for each segment. You do not have to follow them exactly, but they are included to help you think through the steps."
   ]
  },
  {
   "cell_type": "code",
   "execution_count": 1,
   "metadata": {
    "scrolled": true
   },
   "outputs": [],
   "source": [
    "# Dependencies and Setup\n",
    "import matplotlib.pyplot as plt\n",
    "import pandas as pd\n",
    "import numpy as np\n",
    "import requests\n",
    "import time\n",
    "from scipy.stats import linregress\n",
    "\n",
    "# Import API key\n",
    "from api_keys import weather_api_key"
   ]
  },
  {
   "cell_type": "code",
   "execution_count": 2,
   "metadata": {
    "scrolled": true
   },
   "outputs": [],
   "source": [
    "# Incorporated citipy to determine city based on latitude and longitude\n",
    "from citipy import citipy\n",
    "\n",
    "# Range of latitudes and longitudes\n",
    "lat_range = (-90, 90)\n",
    "lng_range = (-180, 180)"
   ]
  },
  {
   "cell_type": "markdown",
   "metadata": {},
   "source": [
    "## Generate Cities List"
   ]
  },
  {
   "cell_type": "code",
   "execution_count": 3,
   "metadata": {},
   "outputs": [
    {
     "data": {
      "text/plain": [
       "605"
      ]
     },
     "execution_count": 3,
     "metadata": {},
     "output_type": "execute_result"
    }
   ],
   "source": [
    "# List for holding lat_lngs and cities\n",
    "lat_lngs = []\n",
    "cities = []\n",
    "\n",
    "# Create a set of random lat and lng combinations\n",
    "lats = np.random.uniform(lat_range[0], lat_range[1], size=1500)\n",
    "lngs = np.random.uniform(lng_range[0], lng_range[1], size=1500)\n",
    "lat_lngs = zip(lats, lngs)\n",
    "\n",
    "# Identify nearest city for each lat, lng combination\n",
    "for lat_lng in lat_lngs:\n",
    "    city = citipy.nearest_city(lat_lng[0], lat_lng[1]).city_name\n",
    "    \n",
    "    # If the city is unique, then add it to a our cities list\n",
    "    if city not in cities:\n",
    "        cities.append(city)\n",
    "\n",
    "# Print the city count to confirm sufficient count\n",
    "len(cities)"
   ]
  },
  {
   "cell_type": "markdown",
   "metadata": {},
   "source": [
    "### Perform API Calls\n",
    "* Perform a weather check on each city using a series of successive API calls.\n",
    "* Include a print log of each city as it'sbeing processed (with the city number and city name).\n"
   ]
  },
  {
   "cell_type": "code",
   "execution_count": 4,
   "metadata": {},
   "outputs": [
    {
     "name": "stdout",
     "output_type": "stream",
     "text": [
      "Beginning Data Retrieval\n",
      "-----------------------------\n",
      "Processing Record 1 of Set 1 | Cururupu\n",
      "Processing Record 2 of Set 1 | Bathsheba\n",
      "Processing Record 3 of Set 1 | Tuktoyaktuk\n",
      "Processing Record 4 of Set 1 | Klaksvík\n",
      "Processing Record 5 of Set 1 | Hūn\n",
      "Processing Record 6 of Set 1 | New Norfolk\n",
      "Processing Record 7 of Set 1 | East London\n",
      "Processing Record 8 of Set 1 | Jonuta\n",
      "Processing Record 9 of Set 1 | Lusaka\n",
      "Processing Record 10 of Set 1 | Bluff\n",
      "Processing Record 11 of Set 1 | Rikitea\n",
      "Processing Record 12 of Set 1 | Bredasdorp\n",
      "Processing Record 13 of Set 1 | Ponta do Sol\n",
      "Processing Record 14 of Set 1 | Yellowknife\n",
      "Processing Record 15 of Set 1 | Cherskiy\n",
      "Processing Record 16 of Set 1 | Mataura\n",
      "Processing Record 17 of Set 1 | Puerto Ayora\n",
      "Processing Record 18 of Set 1 | Enumclaw\n",
      "Processing Record 19 of Set 1 | Kahului\n",
      "Processing Record 20 of Set 1 | Ushuaia\n",
      "Processing Record 21 of Set 1 | Chanika\n",
      "Processing Record 22 of Set 1 | Alice Springs\n",
      "Processing Record 23 of Set 1 | Hong Kong\n",
      "Processing Record 24 of Set 1 | Kralendijk\n",
      "Processing Record 25 of Set 1 | Dargaville\n",
      "Processing Record 26 of Set 1 | Grand Gaube\n",
      "Processing Record 27 of Set 1 | Tasiilaq\n",
      "Processing Record 28 of Set 1 | Mossamedes\n",
      "Processing Record 29 of Set 1 | Lebu\n",
      "Processing Record 30 of Set 1 | Vaini\n",
      "Processing Record 31 of Set 1 | Carnarvon\n",
      "Processing Record 32 of Set 1 | Bubaque\n",
      "Processing Record 33 of Set 1 | Albany\n",
      "Processing Record 34 of Set 1 | Qasigiannguit\n",
      "Processing Record 35 of Set 1 | Cabo San Lucas\n",
      "Processing Record 36 of Set 1 | Kalmunai\n",
      "Processing Record 37 of Set 1 | Ambilobe\n",
      "Processing Record 38 of Set 1 | Ilām\n",
      "Processing Record 39 of Set 1 | Butaritari\n",
      "Processing Record 40 of Set 1 | Lagoa\n",
      "Processing Record 41 of Set 1 | Barra de Tecoanapa\n",
      "Processing Record 42 of Set 1 | Estevan\n",
      "Processing Record 43 of Set 1 | vaitupu\n",
      "City not found. Skipping...\n",
      "Processing Record 44 of Set 1 | Raudeberg\n",
      "Processing Record 45 of Set 1 | Luwuk\n",
      "Processing Record 46 of Set 1 | San Patricio\n",
      "Processing Record 47 of Set 1 | Kaitangata\n",
      "Processing Record 48 of Set 1 | Castro\n",
      "Processing Record 49 of Set 1 | Provideniya\n",
      "Processing Record 50 of Set 1 | Jamestown\n",
      "Processing Record 1 of Set 2 | Punta Arenas\n",
      "Processing Record 2 of Set 2 | taolanaro\n",
      "City not found. Skipping...\n",
      "Processing Record 3 of Set 2 | Ystad\n",
      "Processing Record 4 of Set 2 | Mar del Plata\n",
      "Processing Record 5 of Set 2 | Ilesha\n",
      "Processing Record 6 of Set 2 | Tshikapa\n",
      "Processing Record 7 of Set 2 | Burnie\n",
      "Processing Record 8 of Set 2 | Bandarbeyla\n",
      "Processing Record 9 of Set 2 | Namatanai\n",
      "Processing Record 10 of Set 2 | Beyneu\n",
      "Processing Record 11 of Set 2 | Cape Town\n",
      "Processing Record 12 of Set 2 | Lubbock\n",
      "Processing Record 13 of Set 2 | Palmer\n",
      "Processing Record 14 of Set 2 | Boa Vista\n",
      "Processing Record 15 of Set 2 | Samarai\n",
      "Processing Record 16 of Set 2 | Lüderitz\n",
      "Processing Record 17 of Set 2 | San Quintín\n",
      "Processing Record 18 of Set 2 | Laas\n",
      "Processing Record 19 of Set 2 | Taitung City\n",
      "Processing Record 20 of Set 2 | Aguililla\n",
      "Processing Record 21 of Set 2 | Sasaram\n",
      "Processing Record 22 of Set 2 | Kapaa\n",
      "Processing Record 23 of Set 2 | Nuuk\n",
      "Processing Record 24 of Set 2 | Bambous Virieux\n",
      "Processing Record 25 of Set 2 | Bela\n",
      "Processing Record 26 of Set 2 | Bengkulu\n",
      "Processing Record 27 of Set 2 | Guerrero Negro\n",
      "Processing Record 28 of Set 2 | Atuona\n",
      "Processing Record 29 of Set 2 | Gunnedah\n",
      "Processing Record 30 of Set 2 | Norman Wells\n",
      "Processing Record 31 of Set 2 | Porto-Novo\n",
      "Processing Record 32 of Set 2 | Hilo\n",
      "Processing Record 33 of Set 2 | Lorengau\n",
      "Processing Record 34 of Set 2 | Cayenne\n",
      "Processing Record 35 of Set 2 | George Town\n",
      "Processing Record 36 of Set 2 | Thoen\n",
      "Processing Record 37 of Set 2 | Maraã\n",
      "Processing Record 38 of Set 2 | Safaga\n",
      "Processing Record 39 of Set 2 | Mersing\n",
      "Processing Record 40 of Set 2 | Paamiut\n",
      "Processing Record 41 of Set 2 | Nikolskoye\n",
      "Processing Record 42 of Set 2 | burica\n",
      "City not found. Skipping...\n",
      "Processing Record 43 of Set 2 | Cascais\n",
      "Processing Record 44 of Set 2 | Biak\n",
      "Processing Record 45 of Set 2 | Ratnagiri\n",
      "Processing Record 46 of Set 2 | cagayan de tawi-tawi\n",
      "City not found. Skipping...\n",
      "Processing Record 47 of Set 2 | Beringovskiy\n",
      "Processing Record 48 of Set 2 | Narsaq\n",
      "Processing Record 49 of Set 2 | Faya\n",
      "Processing Record 50 of Set 2 | Port Elizabeth\n",
      "Processing Record 1 of Set 3 | Tigre\n",
      "Processing Record 2 of Set 3 | Camaná\n",
      "Processing Record 3 of Set 3 | Moerai\n",
      "Processing Record 4 of Set 3 | Rabaul\n",
      "Processing Record 5 of Set 3 | Olafsvik\n",
      "Processing Record 6 of Set 3 | Metro\n",
      "Processing Record 7 of Set 3 | Ustka\n",
      "Processing Record 8 of Set 3 | Saskylakh\n",
      "Processing Record 9 of Set 3 | Hermanus\n",
      "Processing Record 10 of Set 3 | Airai\n",
      "Processing Record 11 of Set 3 | Asău\n",
      "Processing Record 12 of Set 3 | Busselton\n",
      "Processing Record 13 of Set 3 | sentyabrskiy\n",
      "City not found. Skipping...\n",
      "Processing Record 14 of Set 3 | Coquimbo\n",
      "Processing Record 15 of Set 3 | Chimoio\n",
      "Processing Record 16 of Set 3 | Flinders\n",
      "Processing Record 17 of Set 3 | Katsuura\n",
      "Processing Record 18 of Set 3 | Masaka\n",
      "Processing Record 19 of Set 3 | Barrow\n",
      "Processing Record 20 of Set 3 | ‘Āhuimanu\n",
      "Processing Record 21 of Set 3 | Cidreira\n",
      "Processing Record 22 of Set 3 | Arraial do Cabo\n",
      "Processing Record 23 of Set 3 | Ouadda\n",
      "Processing Record 24 of Set 3 | Clarence Town\n",
      "Processing Record 25 of Set 3 | Bitung\n",
      "Processing Record 26 of Set 3 | Chapais\n",
      "Processing Record 27 of Set 3 | Husavik\n",
      "Processing Record 28 of Set 3 | Hobart\n",
      "Processing Record 29 of Set 3 | Alugan\n",
      "Processing Record 30 of Set 3 | Tautira\n",
      "Processing Record 31 of Set 3 | Kingaroy\n",
      "Processing Record 32 of Set 3 | Qaanaaq\n",
      "Processing Record 33 of Set 3 | Pemba\n",
      "Processing Record 34 of Set 3 | Tiksi\n",
      "Processing Record 35 of Set 3 | Roebourne\n",
      "Processing Record 36 of Set 3 | Port Hawkesbury\n",
      "Processing Record 37 of Set 3 | Kiruna\n",
      "Processing Record 38 of Set 3 | Juliaca\n",
      "Processing Record 39 of Set 3 | Nemuro\n",
      "Processing Record 40 of Set 3 | Umm Hājar\n",
      "Processing Record 41 of Set 3 | tsihombe\n",
      "City not found. Skipping...\n",
      "Processing Record 42 of Set 3 | Khatanga\n",
      "Processing Record 43 of Set 3 | Ranong\n",
      "Processing Record 44 of Set 3 | Talnakh\n",
      "Processing Record 45 of Set 3 | Pato Branco\n",
      "Processing Record 46 of Set 3 | Port Blair\n",
      "Processing Record 47 of Set 3 | Cessnock\n",
      "Processing Record 48 of Set 3 | Roboré\n",
      "Processing Record 49 of Set 3 | Timrå\n",
      "Processing Record 50 of Set 3 | Barbalha\n",
      "Processing Record 1 of Set 4 | Yulara\n",
      "Processing Record 2 of Set 4 | Saint-Philippe\n",
      "Processing Record 3 of Set 4 | Kuruman\n",
      "Processing Record 4 of Set 4 | Binzhou\n",
      "Processing Record 5 of Set 4 | Tucupita\n",
      "Processing Record 6 of Set 4 | Sal Rei\n",
      "Processing Record 7 of Set 4 | Yar-Sale\n",
      "Processing Record 8 of Set 4 | Ribeira Grande\n",
      "Processing Record 9 of Set 4 | Minoh\n",
      "Processing Record 10 of Set 4 | Mareeba\n",
      "Processing Record 11 of Set 4 | Isangel\n",
      "Processing Record 12 of Set 4 | Ikalamavony\n",
      "Processing Record 13 of Set 4 | Nome\n",
      "Processing Record 14 of Set 4 | Severo-Kuril'sk\n",
      "Processing Record 15 of Set 4 | Bethel\n",
      "Processing Record 16 of Set 4 | Sahuaripa\n",
      "Processing Record 17 of Set 4 | Dikson\n",
      "Processing Record 18 of Set 4 | Coswig\n",
      "Processing Record 19 of Set 4 | belushya guba\n",
      "City not found. Skipping...\n",
      "Processing Record 20 of Set 4 | Pemangkat\n",
      "Processing Record 21 of Set 4 | Shilovo\n",
      "Processing Record 22 of Set 4 | Sitka\n",
      "Processing Record 23 of Set 4 | Fortuna\n",
      "Processing Record 24 of Set 4 | College\n",
      "Processing Record 25 of Set 4 | zachagansk\n",
      "City not found. Skipping...\n",
      "Processing Record 26 of Set 4 | Terrace\n",
      "Processing Record 27 of Set 4 | Pevek\n",
      "Processing Record 28 of Set 4 | Shache\n",
      "Processing Record 29 of Set 4 | Atambua\n",
      "Processing Record 30 of Set 4 | Upington\n",
      "Processing Record 31 of Set 4 | Dunedin\n",
      "Processing Record 32 of Set 4 | grand river south east\n",
      "City not found. Skipping...\n",
      "Processing Record 33 of Set 4 | Altay\n",
      "Processing Record 34 of Set 4 | Saint Paul Harbor\n",
      "Processing Record 35 of Set 4 | barentsburg\n",
      "City not found. Skipping...\n",
      "Processing Record 36 of Set 4 | Mahébourg\n",
      "Processing Record 37 of Set 4 | Gornopravdinsk\n",
      "Processing Record 38 of Set 4 | George Town\n",
      "Processing Record 39 of Set 4 | Rocky Mountain House\n",
      "Processing Record 40 of Set 4 | Noshiro\n",
      "Processing Record 41 of Set 4 | Dakar\n",
      "Processing Record 42 of Set 4 | Kavieng\n",
      "Processing Record 43 of Set 4 | Ugoofaaru\n",
      "Processing Record 44 of Set 4 | tumannyy\n",
      "City not found. Skipping...\n",
      "Processing Record 45 of Set 4 | Provost\n",
      "Processing Record 46 of Set 4 | Bonnyville\n",
      "Processing Record 47 of Set 4 | Orchard Homes\n",
      "Processing Record 48 of Set 4 | Srednekolymsk\n",
      "Processing Record 49 of Set 4 | uk\n",
      "City not found. Skipping...\n",
      "Processing Record 50 of Set 4 | Bilibino\n",
      "Processing Record 1 of Set 5 | Barabinsk\n",
      "Processing Record 2 of Set 5 | Great Yarmouth\n",
      "Processing Record 3 of Set 5 | Yangi Marg`ilon\n",
      "Processing Record 4 of Set 5 | Saldanha\n",
      "Processing Record 5 of Set 5 | Saint-Joseph\n",
      "Processing Record 6 of Set 5 | Codrington\n",
      "Processing Record 7 of Set 5 | Avarua\n",
      "Processing Record 8 of Set 5 | Painesville\n",
      "Processing Record 9 of Set 5 | Kantunilkín\n",
      "Processing Record 10 of Set 5 | amderma\n",
      "City not found. Skipping...\n",
      "Processing Record 11 of Set 5 | Port Lincoln\n",
      "Processing Record 12 of Set 5 | Hamilton\n",
      "Processing Record 13 of Set 5 | illoqqortoormiut\n",
      "City not found. Skipping...\n",
      "Processing Record 14 of Set 5 | rungata\n",
      "City not found. Skipping...\n",
      "Processing Record 15 of Set 5 | Ust-Maya\n",
      "Processing Record 16 of Set 5 | Bukachacha\n",
      "Processing Record 17 of Set 5 | Sur\n",
      "Processing Record 18 of Set 5 | erhlin\n",
      "City not found. Skipping...\n",
      "Processing Record 19 of Set 5 | Saint-Pierre\n",
      "Processing Record 20 of Set 5 | Bata\n",
      "Processing Record 21 of Set 5 | Ratnapura\n",
      "Processing Record 22 of Set 5 | Leningradskiy\n",
      "Processing Record 23 of Set 5 | Vyartsilya\n",
      "Processing Record 24 of Set 5 | Ostrovnoy\n",
      "Processing Record 25 of Set 5 | samusu\n",
      "City not found. Skipping...\n",
      "Processing Record 26 of Set 5 | Kristiansund\n",
      "Processing Record 27 of Set 5 | Beira\n",
      "Processing Record 28 of Set 5 | Chui\n",
      "Processing Record 29 of Set 5 | Denpasar\n",
      "Processing Record 30 of Set 5 | Matara\n",
      "Processing Record 31 of Set 5 | borama\n",
      "City not found. Skipping...\n",
      "Processing Record 32 of Set 5 | Copiapó\n",
      "Processing Record 33 of Set 5 | Kieta\n",
      "Processing Record 34 of Set 5 | Longyearbyen\n",
      "Processing Record 35 of Set 5 | Thompson\n",
      "Processing Record 36 of Set 5 | Ahipara\n",
      "Processing Record 37 of Set 5 | Sotouboua\n",
      "Processing Record 38 of Set 5 | meyungs\n",
      "City not found. Skipping...\n",
      "Processing Record 39 of Set 5 | Jalu\n",
      "Processing Record 40 of Set 5 | Tuatapere\n",
      "Processing Record 41 of Set 5 | Lira\n",
      "Processing Record 42 of Set 5 | Corinth\n",
      "Processing Record 43 of Set 5 | Port Alfred\n",
      "Processing Record 44 of Set 5 | Iqaluit\n",
      "Processing Record 45 of Set 5 | Chokurdakh\n",
      "Processing Record 46 of Set 5 | Honningsvåg\n",
      "Processing Record 47 of Set 5 | Bassano del Grappa\n",
      "Processing Record 48 of Set 5 | Nyurba\n",
      "Processing Record 49 of Set 5 | Giresun Province\n",
      "Processing Record 50 of Set 5 | Clyde River\n",
      "Processing Record 1 of Set 6 | Yantzaza\n",
      "Processing Record 2 of Set 6 | palabuhanratu\n",
      "City not found. Skipping...\n",
      "Processing Record 3 of Set 6 | Hasaki\n",
      "Processing Record 4 of Set 6 | Ust'-Tarka\n",
      "Processing Record 5 of Set 6 | jiddah\n",
      "City not found. Skipping...\n",
      "Processing Record 6 of Set 6 | Les Cayes\n",
      "Processing Record 7 of Set 6 | Sistranda\n",
      "Processing Record 8 of Set 6 | Jiexiu\n",
      "Processing Record 9 of Set 6 | Izhma\n",
      "Processing Record 10 of Set 6 | Invercargill\n",
      "Processing Record 11 of Set 6 | Pisco\n",
      "Processing Record 12 of Set 6 | Goderich\n",
      "Processing Record 13 of Set 6 | Souillac\n",
      "Processing Record 14 of Set 6 | Dingle\n",
      "Processing Record 15 of Set 6 | marcona\n",
      "City not found. Skipping...\n",
      "Processing Record 16 of Set 6 | Flin Flon\n",
      "Processing Record 17 of Set 6 | Te Anau\n",
      "Processing Record 18 of Set 6 | Sambava\n",
      "Processing Record 19 of Set 6 | Praia da Vitória\n",
      "Processing Record 20 of Set 6 | Nenita\n",
      "Processing Record 21 of Set 6 | Batagay\n",
      "Processing Record 22 of Set 6 | Pacora\n",
      "Processing Record 23 of Set 6 | Aborlan\n",
      "Processing Record 24 of Set 6 | Taoudenni\n",
      "Processing Record 25 of Set 6 | nguiu\n",
      "City not found. Skipping...\n",
      "Processing Record 26 of Set 6 | Kosh-Agach\n",
      "Processing Record 27 of Set 6 | Mount Isa\n",
      "Processing Record 28 of Set 6 | Bom Jardim\n",
      "Processing Record 29 of Set 6 | Saint George\n",
      "Processing Record 30 of Set 6 | Santa Cruz de Tenerife\n",
      "Processing Record 31 of Set 6 | lalomanu\n",
      "City not found. Skipping...\n",
      "Processing Record 32 of Set 6 | Colares\n",
      "Processing Record 33 of Set 6 | valea seaca\n",
      "City not found. Skipping...\n",
      "Processing Record 34 of Set 6 | deh rawud\n",
      "City not found. Skipping...\n",
      "Processing Record 35 of Set 6 | Micheweni\n",
      "Processing Record 36 of Set 6 | Vukovar\n",
      "Processing Record 37 of Set 6 | Egvekinot\n",
      "Processing Record 38 of Set 6 | Lentini\n",
      "Processing Record 39 of Set 6 | Alakurtti\n",
      "Processing Record 40 of Set 6 | Hithadhoo\n",
      "Processing Record 41 of Set 6 | Port Macquarie\n",
      "Processing Record 42 of Set 6 | Quesnel\n",
      "Processing Record 43 of Set 6 | Laurel\n",
      "Processing Record 44 of Set 6 | Campbell River\n",
      "Processing Record 45 of Set 6 | Fare\n",
      "Processing Record 46 of Set 6 | Merauke\n",
      "Processing Record 47 of Set 6 | Constitución\n",
      "Processing Record 48 of Set 6 | Nanortalik\n",
      "Processing Record 49 of Set 6 | Bang Saphan\n",
      "Processing Record 50 of Set 6 | tabulbah\n",
      "City not found. Skipping...\n",
      "Processing Record 1 of Set 7 | Grindavik\n",
      "Processing Record 2 of Set 7 | Marabu\n",
      "Processing Record 3 of Set 7 | Los Llanos de Aridane\n",
      "Processing Record 4 of Set 7 | bolshiye uki\n",
      "City not found. Skipping...\n",
      "Processing Record 5 of Set 7 | Kruisfontein\n",
      "Processing Record 6 of Set 7 | Northam\n",
      "Processing Record 7 of Set 7 | Port Shepstone\n",
      "Processing Record 8 of Set 7 | San Policarpo\n",
      "Processing Record 9 of Set 7 | Gaza\n",
      "Processing Record 10 of Set 7 | Rodolfo Sánchez Taboada\n",
      "Processing Record 11 of Set 7 | Portland\n",
      "Processing Record 12 of Set 7 | Young\n",
      "Processing Record 13 of Set 7 | Haines Junction\n",
      "Processing Record 14 of Set 7 | Faanui\n",
      "Processing Record 15 of Set 7 | Marsabit\n",
      "Processing Record 16 of Set 7 | Marystown\n",
      "Processing Record 17 of Set 7 | Khāsh\n",
      "Processing Record 18 of Set 7 | Baoqing\n",
      "Processing Record 19 of Set 7 | Acajutla\n",
      "Processing Record 20 of Set 7 | Djambala\n",
      "Processing Record 21 of Set 7 | Haapiti\n",
      "Processing Record 22 of Set 7 | Algiers\n",
      "Processing Record 23 of Set 7 | Salym\n",
      "Processing Record 24 of Set 7 | Palpa\n",
      "Processing Record 25 of Set 7 | Korla\n",
      "Processing Record 26 of Set 7 | Kondagaon\n",
      "Processing Record 27 of Set 7 | Oodweyne\n",
      "Processing Record 28 of Set 7 | tidore\n",
      "City not found. Skipping...\n",
      "Processing Record 29 of Set 7 | saint-fabien\n",
      "City not found. Skipping...\n",
      "Processing Record 30 of Set 7 | labutta\n",
      "City not found. Skipping...\n",
      "Processing Record 31 of Set 7 | Auki\n",
      "Processing Record 32 of Set 7 | Half Moon Bay\n",
      "Processing Record 33 of Set 7 | macaboboni\n",
      "City not found. Skipping...\n",
      "Processing Record 34 of Set 7 | Truth or Consequences\n",
      "Processing Record 35 of Set 7 | Sabang\n",
      "Processing Record 36 of Set 7 | Amapá\n",
      "Processing Record 37 of Set 7 | Wahiawā\n",
      "Processing Record 38 of Set 7 | Mastic Beach\n",
      "Processing Record 39 of Set 7 | Tarko-Sale\n",
      "Processing Record 40 of Set 7 | Kalabo\n",
      "Processing Record 41 of Set 7 | Lenoir City\n",
      "Processing Record 42 of Set 7 | Gavrilovka Vtoraya\n",
      "Processing Record 43 of Set 7 | Develi\n",
      "Processing Record 44 of Set 7 | Bom Jesus\n",
      "Processing Record 45 of Set 7 | Gabú\n",
      "Processing Record 46 of Set 7 | yunjinghong\n",
      "City not found. Skipping...\n",
      "Processing Record 47 of Set 7 | Lavrentiya\n",
      "Processing Record 48 of Set 7 | Elizabeth City\n",
      "Processing Record 49 of Set 7 | Touros\n",
      "Processing Record 50 of Set 7 | Camopi\n",
      "Processing Record 1 of Set 8 | ust-kamchatsk\n",
      "City not found. Skipping...\n",
      "Processing Record 2 of Set 8 | Kirakira\n",
      "Processing Record 3 of Set 8 | San Cristobal\n",
      "Processing Record 4 of Set 8 | Khanbari\n",
      "Processing Record 5 of Set 8 | Omboué\n",
      "Processing Record 6 of Set 8 | Abalak\n",
      "Processing Record 7 of Set 8 | Aksu\n",
      "Processing Record 8 of Set 8 | Bonthe\n",
      "Processing Record 9 of Set 8 | Upernavik\n",
      "Processing Record 10 of Set 8 | Teya\n",
      "Processing Record 11 of Set 8 | Torbay\n",
      "Processing Record 12 of Set 8 | Esperance\n",
      "Processing Record 13 of Set 8 | Usinsk\n",
      "Processing Record 14 of Set 8 | Lumberton\n",
      "Processing Record 15 of Set 8 | Gifhorn\n",
      "Processing Record 16 of Set 8 | Kushima\n",
      "Processing Record 17 of Set 8 | Måløy\n",
      "Processing Record 18 of Set 8 | Port Augusta\n",
      "Processing Record 19 of Set 8 | Havøysund\n",
      "Processing Record 20 of Set 8 | Cockburn Town\n",
      "Processing Record 21 of Set 8 | São José da Coroa Grande\n",
      "Processing Record 22 of Set 8 | Kwakoa\n",
      "Processing Record 23 of Set 8 | Ketchikan\n",
      "Processing Record 24 of Set 8 | Paris\n",
      "Processing Record 25 of Set 8 | Bourail\n",
      "Processing Record 26 of Set 8 | Neiafu\n",
      "Processing Record 27 of Set 8 | Nanzhou\n",
      "Processing Record 28 of Set 8 | The Pas\n",
      "Processing Record 29 of Set 8 | Coos Bay\n",
      "Processing Record 30 of Set 8 | Brae\n",
      "Processing Record 31 of Set 8 | mys shmidta\n",
      "City not found. Skipping...\n",
      "Processing Record 32 of Set 8 | Kumul\n",
      "Processing Record 33 of Set 8 | Mombetsu\n",
      "Processing Record 34 of Set 8 | São Filipe\n",
      "Processing Record 35 of Set 8 | Leeton\n",
      "Processing Record 36 of Set 8 | grand centre\n",
      "City not found. Skipping...\n",
      "Processing Record 37 of Set 8 | Chumikan\n",
      "Processing Record 38 of Set 8 | Huarmey\n",
      "Processing Record 39 of Set 8 | Hofn\n",
      "Processing Record 40 of Set 8 | Pacific Grove\n",
      "Processing Record 41 of Set 8 | Desbiens\n",
      "Processing Record 42 of Set 8 | Rocha\n",
      "Processing Record 43 of Set 8 | Unguía\n",
      "Processing Record 44 of Set 8 | Ambanja\n",
      "Processing Record 45 of Set 8 | Qingdao\n",
      "Processing Record 46 of Set 8 | Walvis Bay\n",
      "Processing Record 47 of Set 8 | Geraldton\n",
      "Processing Record 48 of Set 8 | Aleksandrovskoye\n",
      "Processing Record 49 of Set 8 | Belmonte\n",
      "Processing Record 50 of Set 8 | Wollongong\n",
      "Processing Record 1 of Set 9 | tarudant\n",
      "City not found. Skipping...\n",
      "Processing Record 2 of Set 9 | Neuquén\n",
      "Processing Record 3 of Set 9 | Arrondissement de Laon\n",
      "Processing Record 4 of Set 9 | saleaula\n",
      "City not found. Skipping...\n",
      "Processing Record 5 of Set 9 | Luleå\n",
      "Processing Record 6 of Set 9 | Comodoro Rivadavia\n",
      "Processing Record 7 of Set 9 | Gashua\n",
      "Processing Record 8 of Set 9 | Lehigh Acres\n",
      "Processing Record 9 of Set 9 | Neepawa\n",
      "Processing Record 10 of Set 9 | Methóni\n",
      "Processing Record 11 of Set 9 | Scarborough\n",
      "Processing Record 12 of Set 9 | karaul\n",
      "City not found. Skipping...\n",
      "Processing Record 13 of Set 9 | Muros\n",
      "Processing Record 14 of Set 9 | Trier\n",
      "Processing Record 15 of Set 9 | Sorong\n",
      "Processing Record 16 of Set 9 | saryshagan\n",
      "City not found. Skipping...\n",
      "Processing Record 17 of Set 9 | Naze\n",
      "Processing Record 18 of Set 9 | Fukuechō\n",
      "Processing Record 19 of Set 9 | Tilichiki\n",
      "Processing Record 20 of Set 9 | bur gabo\n",
      "City not found. Skipping...\n",
      "Processing Record 21 of Set 9 | Nassau\n",
      "Processing Record 22 of Set 9 | Broken Hill\n",
      "Processing Record 23 of Set 9 | Līsakovsk\n",
      "Processing Record 24 of Set 9 | Xuchang\n",
      "Processing Record 25 of Set 9 | Ekibastuz\n",
      "Processing Record 26 of Set 9 | Bow Island\n",
      "Processing Record 27 of Set 9 | Grand Forks\n",
      "Processing Record 28 of Set 9 | Aksarka\n",
      "Processing Record 29 of Set 9 | Rudnya\n",
      "Processing Record 30 of Set 9 | Taltal\n",
      "Processing Record 31 of Set 9 | Khandyga\n",
      "Processing Record 32 of Set 9 | Tual\n",
      "Processing Record 33 of Set 9 | Alquízar\n",
      "Processing Record 34 of Set 9 | Along\n",
      "Processing Record 35 of Set 9 | Kabo\n",
      "Processing Record 36 of Set 9 | Ballina\n",
      "Processing Record 37 of Set 9 | Narasannapeta\n",
      "Processing Record 38 of Set 9 | Chistoye\n",
      "Processing Record 39 of Set 9 | Sangar\n",
      "Processing Record 40 of Set 9 | Camocim\n",
      "Processing Record 41 of Set 9 | Evensk\n",
      "Processing Record 42 of Set 9 | Chibuto\n",
      "Processing Record 43 of Set 9 | Pangnirtung\n",
      "Processing Record 44 of Set 9 | Port-Gentil\n",
      "Processing Record 45 of Set 9 | Storforshei\n",
      "Processing Record 46 of Set 9 | Vardø\n",
      "Processing Record 47 of Set 9 | Biltine\n",
      "Processing Record 48 of Set 9 | bababe\n",
      "City not found. Skipping...\n",
      "Processing Record 49 of Set 9 | Bāsār\n",
      "Processing Record 50 of Set 9 | Saint Simons\n",
      "Processing Record 1 of Set 10 | Chickasha\n",
      "Processing Record 2 of Set 10 | California City\n",
      "Processing Record 3 of Set 10 | Roald\n",
      "Processing Record 4 of Set 10 | Nuoro\n",
      "Processing Record 5 of Set 10 | São Félix do Xingu\n",
      "Processing Record 6 of Set 10 | Evinayong\n",
      "Processing Record 7 of Set 10 | Bogotol\n",
      "Processing Record 8 of Set 10 | Ust'-Uda\n",
      "Processing Record 9 of Set 10 | São João da Barra\n",
      "Processing Record 10 of Set 10 | Pechora\n",
      "Processing Record 11 of Set 10 | Kamaishi\n",
      "Processing Record 12 of Set 10 | Shenjiamen\n",
      "Processing Record 13 of Set 10 | Punta Alta\n",
      "Processing Record 14 of Set 10 | Mackay\n",
      "Processing Record 15 of Set 10 | Øksfjord\n",
      "Processing Record 16 of Set 10 | Westport\n",
      "Processing Record 17 of Set 10 | Gizo Government Station\n",
      "Processing Record 18 of Set 10 | San Jose\n",
      "Processing Record 19 of Set 10 | Dillon\n",
      "Processing Record 20 of Set 10 | Saint Andrews\n",
      "Processing Record 21 of Set 10 | Hambantota\n",
      "Processing Record 22 of Set 10 | Griffith\n",
      "Processing Record 23 of Set 10 | Celestún\n",
      "Processing Record 24 of Set 10 | Vezirköprü\n",
      "Processing Record 25 of Set 10 | White Rock\n",
      "Processing Record 26 of Set 10 | Moche\n",
      "Processing Record 27 of Set 10 | Mount Gambier\n",
      "Processing Record 28 of Set 10 | Petropavlovsk-Kamchatskiy\n",
      "Processing Record 29 of Set 10 | Lompoc\n",
      "Processing Record 30 of Set 10 | Bonavista\n",
      "Processing Record 31 of Set 10 | Mehamn\n",
      "Processing Record 32 of Set 10 | Linxia Chengguanzhen\n",
      "Processing Record 33 of Set 10 | Zhalantun\n",
      "Processing Record 34 of Set 10 | Keuruu\n",
      "Processing Record 35 of Set 10 | Ancud\n",
      "Processing Record 36 of Set 10 | Lodja\n",
      "Processing Record 37 of Set 10 | Tumut\n",
      "Processing Record 38 of Set 10 | lolua\n",
      "City not found. Skipping...\n",
      "Processing Record 39 of Set 10 | Port Hardy\n",
      "Processing Record 40 of Set 10 | Dwārka\n",
      "Processing Record 41 of Set 10 | Banikoara\n",
      "Processing Record 42 of Set 10 | Chenghai\n",
      "Processing Record 43 of Set 10 | Wolnzach\n",
      "Processing Record 44 of Set 10 | tubruq\n",
      "City not found. Skipping...\n",
      "Processing Record 45 of Set 10 | Byron Bay\n",
      "Processing Record 46 of Set 10 | Camacha\n",
      "Processing Record 47 of Set 10 | Tura\n",
      "Processing Record 48 of Set 10 | goycay\n",
      "City not found. Skipping...\n",
      "Processing Record 49 of Set 10 | kazalinsk\n",
      "City not found. Skipping...\n",
      "Processing Record 50 of Set 10 | Arlit\n",
      "Processing Record 1 of Set 11 | Sept-Îles\n",
      "Processing Record 2 of Set 11 | Sittwe\n",
      "Processing Record 3 of Set 11 | Meulaboh\n",
      "Processing Record 4 of Set 11 | Longyan\n",
      "Processing Record 5 of Set 11 | Khorixas\n",
      "Processing Record 6 of Set 11 | Fort Nelson\n",
      "Processing Record 7 of Set 11 | hunza\n",
      "City not found. Skipping...\n",
      "Processing Record 8 of Set 11 | Puerto Escondido\n",
      "Processing Record 9 of Set 11 | Cabano\n",
      "Processing Record 10 of Set 11 | Emerald\n",
      "Processing Record 11 of Set 11 | Bucerías\n",
      "Processing Record 12 of Set 11 | Jedovnice\n",
      "Processing Record 13 of Set 11 | Olivenza\n",
      "Processing Record 14 of Set 11 | Temir\n",
      "Processing Record 15 of Set 11 | Iskateley\n",
      "Processing Record 16 of Set 11 | Kailua\n",
      "Processing Record 17 of Set 11 | Karratha\n",
      "Processing Record 18 of Set 11 | La Ronge\n",
      "Processing Record 19 of Set 11 | Golden\n",
      "Processing Record 20 of Set 11 | Puquio\n",
      "Processing Record 21 of Set 11 | Campos Altos\n",
      "Processing Record 22 of Set 11 | Sulangan\n",
      "Processing Record 23 of Set 11 | Calbuco\n",
      "Processing Record 24 of Set 11 | Basco\n",
      "Processing Record 25 of Set 11 | Koshurnikovo\n",
      "Processing Record 26 of Set 11 | Nyaunglebin\n",
      "Processing Record 27 of Set 11 | Vestmannaeyjar\n",
      "Processing Record 28 of Set 11 | Uyuni\n",
      "Processing Record 29 of Set 11 | Urubamba\n",
      "Processing Record 30 of Set 11 | Rebrikha\n",
      "Processing Record 31 of Set 11 | Karatuzskoye\n",
      "Processing Record 32 of Set 11 | Weiser\n",
      "Processing Record 33 of Set 11 | Äänekoski\n",
      "Processing Record 34 of Set 11 | Aklavik\n",
      "Processing Record 35 of Set 11 | Hashtrūd\n",
      "Processing Record 36 of Set 11 | Bobo-Dioulasso\n",
      "Processing Record 37 of Set 11 | galiwinku\n",
      "City not found. Skipping...\n",
      "Processing Record 38 of Set 11 | falealupo\n",
      "City not found. Skipping...\n",
      "Processing Record 39 of Set 11 | Luena\n",
      "Processing Record 40 of Set 11 | nizhneyansk\n",
      "City not found. Skipping...\n",
      "Processing Record 41 of Set 11 | Helena\n",
      "Processing Record 42 of Set 11 | Coahuayana Viejo\n",
      "Processing Record 43 of Set 11 | Kongoussi\n",
      "Processing Record 44 of Set 11 | Muromtsevo\n",
      "Processing Record 45 of Set 11 | sumbawa\n",
      "City not found. Skipping...\n",
      "Processing Record 46 of Set 11 | Kolokani\n",
      "Processing Record 47 of Set 11 | Maunabo\n",
      "Processing Record 48 of Set 11 | Tanete\n",
      "Processing Record 49 of Set 11 | Tubualá\n",
      "Processing Record 50 of Set 11 | Nha Trang\n",
      "Processing Record 1 of Set 12 | Huilong\n",
      "Processing Record 2 of Set 12 | geresk\n",
      "City not found. Skipping...\n",
      "Processing Record 3 of Set 12 | Tabou\n",
      "Processing Record 4 of Set 12 | jiroft\n",
      "City not found. Skipping...\n",
      "Processing Record 5 of Set 12 | Paranavaí\n",
      "Processing Record 6 of Set 12 | Salalah\n",
      "Processing Record 7 of Set 12 | Barguzin\n",
      "Processing Record 8 of Set 12 | Arrondissement de Mende\n",
      "Processing Record 9 of Set 12 | Sūsangerd\n",
      "Processing Record 10 of Set 12 | Tabas\n",
      "Processing Record 11 of Set 12 | Harper\n",
      "Processing Record 12 of Set 12 | Ammāpettai\n",
      "Processing Record 13 of Set 12 | Rawson\n",
      "Processing Record 14 of Set 12 | Kankaanpää\n",
      "Processing Record 15 of Set 12 | Grand-Santi\n",
      "Processing Record 16 of Set 12 | Trincomalee\n",
      "Processing Record 17 of Set 12 | Vila Velha\n",
      "Processing Record 18 of Set 12 | maryanovka\n",
      "City not found. Skipping...\n",
      "Processing Record 19 of Set 12 | Sittingbourne\n",
      "Processing Record 20 of Set 12 | Jiayuguan City\n",
      "Processing Record 21 of Set 12 | Bereda\n",
      "Processing Record 22 of Set 12 | utiroa\n",
      "City not found. Skipping...\n",
      "Processing Record 23 of Set 12 | Paraná\n",
      "Processing Record 24 of Set 12 | Saint-Paul\n",
      "Processing Record 25 of Set 12 | dolbeau\n",
      "City not found. Skipping...\n",
      "Processing Record 26 of Set 12 | Purpe\n",
      "Processing Record 27 of Set 12 | Ilulissat\n",
      "Processing Record 28 of Set 12 | Leh\n",
      "Processing Record 29 of Set 12 | Vanimo\n",
      "Processing Record 30 of Set 12 | Antofagasta\n",
      "Processing Record 31 of Set 12 | Pskov\n",
      "Processing Record 32 of Set 12 | Ulaangom\n",
      "Processing Record 33 of Set 12 | Batemans Bay\n",
      "Processing Record 34 of Set 12 | Beisfjord\n",
      "Processing Record 35 of Set 12 | Banda Aceh\n",
      "Processing Record 36 of Set 12 | Berlevåg\n",
      "Processing Record 37 of Set 12 | Natal\n",
      "Processing Record 38 of Set 12 | Pullman\n",
      "Processing Record 39 of Set 12 | Gribanovskiy\n",
      "Processing Record 40 of Set 12 | laiagam\n",
      "City not found. Skipping...\n",
      "Processing Record 41 of Set 12 | Talcahuano\n",
      "Processing Record 42 of Set 12 | Iglesias\n",
      "Processing Record 43 of Set 12 | Prince Rupert\n",
      "Processing Record 44 of Set 12 | Zabaykal'sk\n",
      "Processing Record 45 of Set 12 | Warrensburg\n",
      "Processing Record 46 of Set 12 | Viranşehir\n",
      "Processing Record 47 of Set 12 | Tancheng\n",
      "Processing Record 48 of Set 12 | Poum\n",
      "Processing Record 49 of Set 12 | Shihezi\n",
      "Processing Record 50 of Set 12 | Capinópolis\n",
      "Processing Record 1 of Set 13 | Ust-Nera\n",
      "Processing Record 2 of Set 13 | Caravelas\n",
      "Processing Record 3 of Set 13 | Quatre Cocos\n",
      "Processing Record 4 of Set 13 | Trairi\n",
      "Processing Record 5 of Set 13 | Luganville\n",
      "-----------------------------\n",
      "Data Retrieval Complete\n",
      "-----------------------------\n"
     ]
    }
   ],
   "source": [
    "valid_cities = []\n",
    "valid_lat = []\n",
    "valid_lng = []\n",
    "valid_max_temp = []\n",
    "valid_humidity = []\n",
    "valid_cloudiness = []\n",
    "valid_wind_speed = []\n",
    "valid_country = []\n",
    "valid_date = []\n",
    "set_number = 1\n",
    "number_in_set = 1\n",
    "\n",
    "print(\"Beginning Data Retrieval\\n-----------------------------\")\n",
    "\n",
    "base_url = \"http://api.openweathermap.org/data/2.5/weather?\"\n",
    "\n",
    "for counter,value in enumerate(cities, 1):\n",
    "    city_name = cities[counter-1]\n",
    "    try:\n",
    "        # Create search query, make request and store in json\n",
    "        query_url = base_url + \"appid=\" + weather_api_key + \"&q=\" + city_name\n",
    "        city_json = requests.get(query_url).json()\n",
    "        valid_cities.append(city_json[\"name\"])\n",
    "        valid_lat.append(city_json[\"coord\"][\"lat\"])\n",
    "        valid_lng.append(city_json[\"coord\"][\"lon\"])\n",
    "        valid_max_temp.append(city_json[\"main\"][\"temp_max\"])\n",
    "        valid_humidity.append(city_json[\"main\"][\"humidity\"])\n",
    "        valid_cloudiness.append(city_json[\"clouds\"][\"all\"])\n",
    "        valid_wind_speed.append(city_json[\"wind\"][\"speed\"])\n",
    "        valid_country.append(city_json[\"sys\"][\"country\"])\n",
    "        valid_date.append(city_json[\"dt\"])\n",
    "        print(f\"Processing Record {number_in_set} of Set {set_number} | {city_json['name']}\")\n",
    "        # Handle cities that are not found\n",
    "    except KeyError:\n",
    "        print(f\"Processing Record {number_in_set} of Set {set_number} | {city_name}\")\n",
    "        print(\"City not found. Skipping...\")\n",
    "    number_in_set += 1\n",
    "    \n",
    "    if number_in_set ==51:\n",
    "        set_number += 1\n",
    "        number_in_set = 1\n",
    "\n",
    "print(\"-----------------------------\\nData Retrieval Complete\\n-----------------------------\")\n"
   ]
  },
  {
   "cell_type": "markdown",
   "metadata": {},
   "source": [
    "### Convert Raw Data to DataFrame\n",
    "* Export the city data into a .csv.\n",
    "* Display the DataFrame"
   ]
  },
  {
   "cell_type": "code",
   "execution_count": 5,
   "metadata": {},
   "outputs": [
    {
     "data": {
      "text/plain": [
       "City          548\n",
       "Lat           548\n",
       "Lng           548\n",
       "Max Temp      548\n",
       "Humidity      548\n",
       "Cloudiness    548\n",
       "Wind Speed    548\n",
       "Country       548\n",
       "Date          548\n",
       "dtype: int64"
      ]
     },
     "execution_count": 5,
     "metadata": {},
     "output_type": "execute_result"
    }
   ],
   "source": [
    "valid_max_temp_f = [round((i-273.15)*9/5+32,2) for i in valid_max_temp]\n",
    "city_weather = {\"City\": valid_cities,\n",
    "               \"Lat\": valid_lat,\n",
    "               \"Lng\": valid_lng,\n",
    "               \"Max Temp\": valid_max_temp_f,\n",
    "               \"Humidity\": valid_humidity,\n",
    "               \"Cloudiness\": valid_cloudiness,\n",
    "               \"Wind Speed\": valid_wind_speed,\n",
    "               \"Country\": valid_country,\n",
    "               \"Date\": valid_date}\n",
    "city_weather_df = pd.DataFrame(city_weather)\n",
    "city_weather_df.count()"
   ]
  },
  {
   "cell_type": "code",
   "execution_count": 6,
   "metadata": {},
   "outputs": [
    {
     "data": {
      "text/html": [
       "<div>\n",
       "<style scoped>\n",
       "    .dataframe tbody tr th:only-of-type {\n",
       "        vertical-align: middle;\n",
       "    }\n",
       "\n",
       "    .dataframe tbody tr th {\n",
       "        vertical-align: top;\n",
       "    }\n",
       "\n",
       "    .dataframe thead th {\n",
       "        text-align: right;\n",
       "    }\n",
       "</style>\n",
       "<table border=\"1\" class=\"dataframe\">\n",
       "  <thead>\n",
       "    <tr style=\"text-align: right;\">\n",
       "      <th></th>\n",
       "      <th>City</th>\n",
       "      <th>Lat</th>\n",
       "      <th>Lng</th>\n",
       "      <th>Max Temp</th>\n",
       "      <th>Humidity</th>\n",
       "      <th>Cloudiness</th>\n",
       "      <th>Wind Speed</th>\n",
       "      <th>Country</th>\n",
       "      <th>Date</th>\n",
       "    </tr>\n",
       "  </thead>\n",
       "  <tbody>\n",
       "    <tr>\n",
       "      <th>0</th>\n",
       "      <td>Cururupu</td>\n",
       "      <td>-1.83</td>\n",
       "      <td>-44.87</td>\n",
       "      <td>72.12</td>\n",
       "      <td>95</td>\n",
       "      <td>47</td>\n",
       "      <td>0.64</td>\n",
       "      <td>BR</td>\n",
       "      <td>1595141515</td>\n",
       "    </tr>\n",
       "    <tr>\n",
       "      <th>1</th>\n",
       "      <td>Bathsheba</td>\n",
       "      <td>13.22</td>\n",
       "      <td>-59.52</td>\n",
       "      <td>80.60</td>\n",
       "      <td>78</td>\n",
       "      <td>40</td>\n",
       "      <td>5.70</td>\n",
       "      <td>BB</td>\n",
       "      <td>1595140961</td>\n",
       "    </tr>\n",
       "    <tr>\n",
       "      <th>2</th>\n",
       "      <td>Tuktoyaktuk</td>\n",
       "      <td>69.45</td>\n",
       "      <td>-133.04</td>\n",
       "      <td>38.57</td>\n",
       "      <td>89</td>\n",
       "      <td>100</td>\n",
       "      <td>3.80</td>\n",
       "      <td>CA</td>\n",
       "      <td>1595140951</td>\n",
       "    </tr>\n",
       "    <tr>\n",
       "      <th>3</th>\n",
       "      <td>Klaksvík</td>\n",
       "      <td>62.23</td>\n",
       "      <td>-6.59</td>\n",
       "      <td>48.20</td>\n",
       "      <td>87</td>\n",
       "      <td>90</td>\n",
       "      <td>6.20</td>\n",
       "      <td>FO</td>\n",
       "      <td>1595140950</td>\n",
       "    </tr>\n",
       "    <tr>\n",
       "      <th>4</th>\n",
       "      <td>Hūn</td>\n",
       "      <td>29.13</td>\n",
       "      <td>15.95</td>\n",
       "      <td>80.74</td>\n",
       "      <td>43</td>\n",
       "      <td>0</td>\n",
       "      <td>1.87</td>\n",
       "      <td>LY</td>\n",
       "      <td>1595141020</td>\n",
       "    </tr>\n",
       "  </tbody>\n",
       "</table>\n",
       "</div>"
      ],
      "text/plain": [
       "          City    Lat     Lng  Max Temp  Humidity  Cloudiness  Wind Speed  \\\n",
       "0     Cururupu  -1.83  -44.87     72.12        95          47        0.64   \n",
       "1    Bathsheba  13.22  -59.52     80.60        78          40        5.70   \n",
       "2  Tuktoyaktuk  69.45 -133.04     38.57        89         100        3.80   \n",
       "3     Klaksvík  62.23   -6.59     48.20        87          90        6.20   \n",
       "4          Hūn  29.13   15.95     80.74        43           0        1.87   \n",
       "\n",
       "  Country        Date  \n",
       "0      BR  1595141515  \n",
       "1      BB  1595140961  \n",
       "2      CA  1595140951  \n",
       "3      FO  1595140950  \n",
       "4      LY  1595141020  "
      ]
     },
     "execution_count": 6,
     "metadata": {},
     "output_type": "execute_result"
    }
   ],
   "source": [
    "city_weather_df.head()"
   ]
  },
  {
   "cell_type": "markdown",
   "metadata": {},
   "source": [
    "## Inspect the data and remove the cities where the humidity > 100%.\n",
    "----\n",
    "Skip this step if there are no cities that have humidity > 100%. "
   ]
  },
  {
   "cell_type": "code",
   "execution_count": 7,
   "metadata": {},
   "outputs": [
    {
     "data": {
      "text/html": [
       "<div>\n",
       "<style scoped>\n",
       "    .dataframe tbody tr th:only-of-type {\n",
       "        vertical-align: middle;\n",
       "    }\n",
       "\n",
       "    .dataframe tbody tr th {\n",
       "        vertical-align: top;\n",
       "    }\n",
       "\n",
       "    .dataframe thead th {\n",
       "        text-align: right;\n",
       "    }\n",
       "</style>\n",
       "<table border=\"1\" class=\"dataframe\">\n",
       "  <thead>\n",
       "    <tr style=\"text-align: right;\">\n",
       "      <th></th>\n",
       "      <th>Lat</th>\n",
       "      <th>Lng</th>\n",
       "      <th>Max Temp</th>\n",
       "      <th>Humidity</th>\n",
       "      <th>Cloudiness</th>\n",
       "      <th>Wind Speed</th>\n",
       "      <th>Date</th>\n",
       "    </tr>\n",
       "  </thead>\n",
       "  <tbody>\n",
       "    <tr>\n",
       "      <th>count</th>\n",
       "      <td>548.000000</td>\n",
       "      <td>548.000000</td>\n",
       "      <td>548.000000</td>\n",
       "      <td>548.000000</td>\n",
       "      <td>548.000000</td>\n",
       "      <td>548.000000</td>\n",
       "      <td>5.480000e+02</td>\n",
       "    </tr>\n",
       "    <tr>\n",
       "      <th>mean</th>\n",
       "      <td>19.918394</td>\n",
       "      <td>16.595931</td>\n",
       "      <td>69.411259</td>\n",
       "      <td>70.644161</td>\n",
       "      <td>48.728102</td>\n",
       "      <td>3.437080</td>\n",
       "      <td>1.595141e+09</td>\n",
       "    </tr>\n",
       "    <tr>\n",
       "      <th>std</th>\n",
       "      <td>34.169183</td>\n",
       "      <td>93.239657</td>\n",
       "      <td>13.852980</td>\n",
       "      <td>20.543956</td>\n",
       "      <td>40.083106</td>\n",
       "      <td>2.374564</td>\n",
       "      <td>2.725675e+02</td>\n",
       "    </tr>\n",
       "    <tr>\n",
       "      <th>min</th>\n",
       "      <td>-54.800000</td>\n",
       "      <td>-179.170000</td>\n",
       "      <td>30.200000</td>\n",
       "      <td>9.000000</td>\n",
       "      <td>0.000000</td>\n",
       "      <td>0.080000</td>\n",
       "      <td>1.595141e+09</td>\n",
       "    </tr>\n",
       "    <tr>\n",
       "      <th>25%</th>\n",
       "      <td>-8.802500</td>\n",
       "      <td>-66.997500</td>\n",
       "      <td>59.000000</td>\n",
       "      <td>60.000000</td>\n",
       "      <td>1.000000</td>\n",
       "      <td>1.635000</td>\n",
       "      <td>1.595141e+09</td>\n",
       "    </tr>\n",
       "    <tr>\n",
       "      <th>50%</th>\n",
       "      <td>22.625000</td>\n",
       "      <td>19.980000</td>\n",
       "      <td>70.015000</td>\n",
       "      <td>74.000000</td>\n",
       "      <td>46.000000</td>\n",
       "      <td>3.000000</td>\n",
       "      <td>1.595141e+09</td>\n",
       "    </tr>\n",
       "    <tr>\n",
       "      <th>75%</th>\n",
       "      <td>49.765000</td>\n",
       "      <td>96.280000</td>\n",
       "      <td>80.010000</td>\n",
       "      <td>86.000000</td>\n",
       "      <td>90.000000</td>\n",
       "      <td>4.600000</td>\n",
       "      <td>1.595142e+09</td>\n",
       "    </tr>\n",
       "    <tr>\n",
       "      <th>max</th>\n",
       "      <td>78.220000</td>\n",
       "      <td>179.320000</td>\n",
       "      <td>109.400000</td>\n",
       "      <td>100.000000</td>\n",
       "      <td>100.000000</td>\n",
       "      <td>15.770000</td>\n",
       "      <td>1.595142e+09</td>\n",
       "    </tr>\n",
       "  </tbody>\n",
       "</table>\n",
       "</div>"
      ],
      "text/plain": [
       "              Lat         Lng    Max Temp    Humidity  Cloudiness  Wind Speed  \\\n",
       "count  548.000000  548.000000  548.000000  548.000000  548.000000  548.000000   \n",
       "mean    19.918394   16.595931   69.411259   70.644161   48.728102    3.437080   \n",
       "std     34.169183   93.239657   13.852980   20.543956   40.083106    2.374564   \n",
       "min    -54.800000 -179.170000   30.200000    9.000000    0.000000    0.080000   \n",
       "25%     -8.802500  -66.997500   59.000000   60.000000    1.000000    1.635000   \n",
       "50%     22.625000   19.980000   70.015000   74.000000   46.000000    3.000000   \n",
       "75%     49.765000   96.280000   80.010000   86.000000   90.000000    4.600000   \n",
       "max     78.220000  179.320000  109.400000  100.000000  100.000000   15.770000   \n",
       "\n",
       "               Date  \n",
       "count  5.480000e+02  \n",
       "mean   1.595141e+09  \n",
       "std    2.725675e+02  \n",
       "min    1.595141e+09  \n",
       "25%    1.595141e+09  \n",
       "50%    1.595141e+09  \n",
       "75%    1.595142e+09  \n",
       "max    1.595142e+09  "
      ]
     },
     "execution_count": 7,
     "metadata": {},
     "output_type": "execute_result"
    }
   ],
   "source": [
    "city_weather_df.describe()"
   ]
  },
  {
   "cell_type": "code",
   "execution_count": 8,
   "metadata": {},
   "outputs": [
    {
     "data": {
      "text/plain": [
       "Int64Index([], dtype='int64')"
      ]
     },
     "execution_count": 8,
     "metadata": {},
     "output_type": "execute_result"
    }
   ],
   "source": [
    "#  Get the indices of cities that have humidity over 100%.\n",
    "humidity_over_100 = city_weather_df.loc[city_weather_df[\"Humidity\"]>100]\n",
    "humidity_over_100.index"
   ]
  },
  {
   "cell_type": "code",
   "execution_count": 9,
   "metadata": {},
   "outputs": [
    {
     "data": {
      "text/html": [
       "<div>\n",
       "<style scoped>\n",
       "    .dataframe tbody tr th:only-of-type {\n",
       "        vertical-align: middle;\n",
       "    }\n",
       "\n",
       "    .dataframe tbody tr th {\n",
       "        vertical-align: top;\n",
       "    }\n",
       "\n",
       "    .dataframe thead th {\n",
       "        text-align: right;\n",
       "    }\n",
       "</style>\n",
       "<table border=\"1\" class=\"dataframe\">\n",
       "  <thead>\n",
       "    <tr style=\"text-align: right;\">\n",
       "      <th></th>\n",
       "      <th>City</th>\n",
       "      <th>Lat</th>\n",
       "      <th>Lng</th>\n",
       "      <th>Max Temp</th>\n",
       "      <th>Humidity</th>\n",
       "      <th>Cloudiness</th>\n",
       "      <th>Wind Speed</th>\n",
       "      <th>Country</th>\n",
       "      <th>Date</th>\n",
       "    </tr>\n",
       "  </thead>\n",
       "  <tbody>\n",
       "    <tr>\n",
       "      <th>0</th>\n",
       "      <td>Cururupu</td>\n",
       "      <td>-1.83</td>\n",
       "      <td>-44.87</td>\n",
       "      <td>72.12</td>\n",
       "      <td>95</td>\n",
       "      <td>47</td>\n",
       "      <td>0.64</td>\n",
       "      <td>BR</td>\n",
       "      <td>1595141515</td>\n",
       "    </tr>\n",
       "    <tr>\n",
       "      <th>1</th>\n",
       "      <td>Bathsheba</td>\n",
       "      <td>13.22</td>\n",
       "      <td>-59.52</td>\n",
       "      <td>80.60</td>\n",
       "      <td>78</td>\n",
       "      <td>40</td>\n",
       "      <td>5.70</td>\n",
       "      <td>BB</td>\n",
       "      <td>1595140961</td>\n",
       "    </tr>\n",
       "    <tr>\n",
       "      <th>2</th>\n",
       "      <td>Tuktoyaktuk</td>\n",
       "      <td>69.45</td>\n",
       "      <td>-133.04</td>\n",
       "      <td>38.57</td>\n",
       "      <td>89</td>\n",
       "      <td>100</td>\n",
       "      <td>3.80</td>\n",
       "      <td>CA</td>\n",
       "      <td>1595140951</td>\n",
       "    </tr>\n",
       "    <tr>\n",
       "      <th>3</th>\n",
       "      <td>Klaksvík</td>\n",
       "      <td>62.23</td>\n",
       "      <td>-6.59</td>\n",
       "      <td>48.20</td>\n",
       "      <td>87</td>\n",
       "      <td>90</td>\n",
       "      <td>6.20</td>\n",
       "      <td>FO</td>\n",
       "      <td>1595140950</td>\n",
       "    </tr>\n",
       "    <tr>\n",
       "      <th>4</th>\n",
       "      <td>Hūn</td>\n",
       "      <td>29.13</td>\n",
       "      <td>15.95</td>\n",
       "      <td>80.74</td>\n",
       "      <td>43</td>\n",
       "      <td>0</td>\n",
       "      <td>1.87</td>\n",
       "      <td>LY</td>\n",
       "      <td>1595141020</td>\n",
       "    </tr>\n",
       "    <tr>\n",
       "      <th>...</th>\n",
       "      <td>...</td>\n",
       "      <td>...</td>\n",
       "      <td>...</td>\n",
       "      <td>...</td>\n",
       "      <td>...</td>\n",
       "      <td>...</td>\n",
       "      <td>...</td>\n",
       "      <td>...</td>\n",
       "      <td>...</td>\n",
       "    </tr>\n",
       "    <tr>\n",
       "      <th>543</th>\n",
       "      <td>Ust-Nera</td>\n",
       "      <td>64.57</td>\n",
       "      <td>143.20</td>\n",
       "      <td>57.56</td>\n",
       "      <td>77</td>\n",
       "      <td>93</td>\n",
       "      <td>2.70</td>\n",
       "      <td>RU</td>\n",
       "      <td>1595140992</td>\n",
       "    </tr>\n",
       "    <tr>\n",
       "      <th>544</th>\n",
       "      <td>Caravelas</td>\n",
       "      <td>-17.71</td>\n",
       "      <td>-39.25</td>\n",
       "      <td>69.03</td>\n",
       "      <td>79</td>\n",
       "      <td>4</td>\n",
       "      <td>1.92</td>\n",
       "      <td>BR</td>\n",
       "      <td>1595140848</td>\n",
       "    </tr>\n",
       "    <tr>\n",
       "      <th>545</th>\n",
       "      <td>Quatre Cocos</td>\n",
       "      <td>-20.21</td>\n",
       "      <td>57.76</td>\n",
       "      <td>72.00</td>\n",
       "      <td>64</td>\n",
       "      <td>75</td>\n",
       "      <td>6.70</td>\n",
       "      <td>MU</td>\n",
       "      <td>1595141259</td>\n",
       "    </tr>\n",
       "    <tr>\n",
       "      <th>546</th>\n",
       "      <td>Trairi</td>\n",
       "      <td>-3.28</td>\n",
       "      <td>-39.27</td>\n",
       "      <td>74.28</td>\n",
       "      <td>76</td>\n",
       "      <td>77</td>\n",
       "      <td>5.34</td>\n",
       "      <td>BR</td>\n",
       "      <td>1595141329</td>\n",
       "    </tr>\n",
       "    <tr>\n",
       "      <th>547</th>\n",
       "      <td>Luganville</td>\n",
       "      <td>-15.53</td>\n",
       "      <td>167.17</td>\n",
       "      <td>77.00</td>\n",
       "      <td>78</td>\n",
       "      <td>75</td>\n",
       "      <td>1.50</td>\n",
       "      <td>VU</td>\n",
       "      <td>1595141132</td>\n",
       "    </tr>\n",
       "  </tbody>\n",
       "</table>\n",
       "<p>548 rows × 9 columns</p>\n",
       "</div>"
      ],
      "text/plain": [
       "             City    Lat     Lng  Max Temp  Humidity  Cloudiness  Wind Speed  \\\n",
       "0        Cururupu  -1.83  -44.87     72.12        95          47        0.64   \n",
       "1       Bathsheba  13.22  -59.52     80.60        78          40        5.70   \n",
       "2     Tuktoyaktuk  69.45 -133.04     38.57        89         100        3.80   \n",
       "3        Klaksvík  62.23   -6.59     48.20        87          90        6.20   \n",
       "4             Hūn  29.13   15.95     80.74        43           0        1.87   \n",
       "..            ...    ...     ...       ...       ...         ...         ...   \n",
       "543      Ust-Nera  64.57  143.20     57.56        77          93        2.70   \n",
       "544     Caravelas -17.71  -39.25     69.03        79           4        1.92   \n",
       "545  Quatre Cocos -20.21   57.76     72.00        64          75        6.70   \n",
       "546        Trairi  -3.28  -39.27     74.28        76          77        5.34   \n",
       "547    Luganville -15.53  167.17     77.00        78          75        1.50   \n",
       "\n",
       "    Country        Date  \n",
       "0        BR  1595141515  \n",
       "1        BB  1595140961  \n",
       "2        CA  1595140951  \n",
       "3        FO  1595140950  \n",
       "4        LY  1595141020  \n",
       "..      ...         ...  \n",
       "543      RU  1595140992  \n",
       "544      BR  1595140848  \n",
       "545      MU  1595141259  \n",
       "546      BR  1595141329  \n",
       "547      VU  1595141132  \n",
       "\n",
       "[548 rows x 9 columns]"
      ]
     },
     "execution_count": 9,
     "metadata": {},
     "output_type": "execute_result"
    }
   ],
   "source": [
    "# Make a new DataFrame equal to the city data to drop all humidity outliers by index.\n",
    "# Passing \"inplace=False\" will make a copy of the city_data DataFrame, which we call \"clean_city_data\".\n",
    "clean_city_data = city_weather_df.loc[city_weather_df[\"Humidity\"]<=100]\n",
    "clean_city_data"
   ]
  },
  {
   "cell_type": "code",
   "execution_count": 10,
   "metadata": {},
   "outputs": [],
   "source": [
    "# Extract relevant fields from the data frame\n",
    "clean_city_data.insert(loc = 0, column=\"City ID\", value = clean_city_data.index)\n",
    "# Export the City_Data into a csv\n",
    "clean_city_data.to_csv(\"../output_data/city_data.csv\", index=False)"
   ]
  },
  {
   "cell_type": "markdown",
   "metadata": {},
   "source": [
    "## Plotting the Data\n",
    "* Use proper labeling of the plots using plot titles (including date of analysis) and axes labels.\n",
    "* Save the plotted figures as .pngs.\n",
    "* After each plot add a sentence or too explaining what the code is and analyzing."
   ]
  },
  {
   "cell_type": "markdown",
   "metadata": {},
   "source": [
    "## Latitude vs. Temperature Plot"
   ]
  },
  {
   "cell_type": "code",
   "execution_count": 11,
   "metadata": {},
   "outputs": [
    {
     "data": {
      "image/png": "[encoded data removed]",
      "text/plain": [
       "<Figure size 432x288 with 1 Axes>"
      ]
     },
     "metadata": {
      "needs_background": "light"
     },
     "output_type": "display_data"
    }
   ],
   "source": [
    "city_lat = clean_city_data[\"Lat\"]\n",
    "city_max_temp = clean_city_data[\"Max Temp\"]\n",
    "plt.scatter(city_lat, city_max_temp)\n",
    "plt.title(\"City Latitude vs. Max Temperature (07/19/20)\")\n",
    "plt.xlabel(\"Latitude\")\n",
    "plt.ylabel(\"Max Temperature (F)\")\n",
    "plt.grid()\n",
    "plt.savefig(\"../output_data/Fig1.png\")"
   ]
  },
  {
   "cell_type": "markdown",
   "metadata": {},
   "source": [
    "This plot shows the relationship between latitude and max temperature of selected cities. It visualizes the trend of temperature changes along the latitude."
   ]
  },
  {
   "cell_type": "markdown",
   "metadata": {},
   "source": [
    "## Latitude vs. Humidity Plot"
   ]
  },
  {
   "cell_type": "code",
   "execution_count": 12,
   "metadata": {},
   "outputs": [
    {
     "data": {
      "image/png": "[encoded data removed]",
      "text/plain": [
       "<Figure size 432x288 with 1 Axes>"
      ]
     },
     "metadata": {
      "needs_background": "light"
     },
     "output_type": "display_data"
    }
   ],
   "source": [
    "city_humidity = clean_city_data[\"Humidity\"]\n",
    "plt.scatter(city_lat, city_humidity)\n",
    "plt.title(\"City Latitude vs. Humidity (07/19/20)\")\n",
    "plt.xlabel(\"Latitude\")\n",
    "plt.ylabel(\"Humidity (%)\")\n",
    "plt.grid()\n",
    "plt.savefig(\"../output_data/Fig2.png\")"
   ]
  },
  {
   "cell_type": "markdown",
   "metadata": {},
   "source": [
    "This plot shows the relationship between latitude and humidity of selected cities. It visualizes the trend of humidity changes along the latitude."
   ]
  },
  {
   "cell_type": "markdown",
   "metadata": {},
   "source": [
    "## Latitude vs. Cloudiness Plot"
   ]
  },
  {
   "cell_type": "code",
   "execution_count": 13,
   "metadata": {},
   "outputs": [
    {
     "data": {
      "image/png": "[encoded data removed]",
      "text/plain": [
       "<Figure size 432x288 with 1 Axes>"
      ]
     },
     "metadata": {
      "needs_background": "light"
     },
     "output_type": "display_data"
    }
   ],
   "source": [
    "city_cloudiness = clean_city_data[\"Cloudiness\"]\n",
    "plt.scatter(city_lat, city_cloudiness)\n",
    "plt.title(\"City Latitude vs. Cloudiness (07/19/20)\")\n",
    "plt.xlabel(\"Latitude\")\n",
    "plt.ylabel(\"Cloudiness (%)\")\n",
    "plt.grid()\n",
    "plt.savefig(\"../output_data/Fig3.png\")"
   ]
  },
  {
   "cell_type": "markdown",
   "metadata": {},
   "source": [
    "This plot shows the relationship between latitude and cloudiness of selected cities. It visualizes the trend of cloudiness changes along the latitude."
   ]
  },
  {
   "cell_type": "markdown",
   "metadata": {},
   "source": [
    "## Latitude vs. Wind Speed Plot"
   ]
  },
  {
   "cell_type": "code",
   "execution_count": 14,
   "metadata": {},
   "outputs": [
    {
     "data": {
      "image/png": "[encoded data removed]",
      "text/plain": [
       "<Figure size 432x288 with 1 Axes>"
      ]
     },
     "metadata": {
      "needs_background": "light"
     },
     "output_type": "display_data"
    }
   ],
   "source": [
    "city_wind_speed = clean_city_data[\"Wind Speed\"]\n",
    "plt.scatter(city_lat, city_wind_speed)\n",
    "plt.title(\"City Latitude vs. Wind Speed (07/19/20)\")\n",
    "plt.xlabel(\"Latitude\")\n",
    "plt.ylabel(\"Wind Speed (mph)\")\n",
    "plt.grid()\n",
    "plt.savefig(\"../output_data/Fig4.png\")"
   ]
  },
  {
   "cell_type": "markdown",
   "metadata": {},
   "source": [
    "This plot shows the relationship between latitude and wind speed of selected cities. It visualizes the trend of wind speed changes along the latitude."
   ]
  },
  {
   "cell_type": "markdown",
   "metadata": {},
   "source": [
    "## Linear Regression\n",
    "* After each pair of plots explain what the linear regression is modeling such as any relationships you notice and any other analysis you may have."
   ]
  },
  {
   "cell_type": "code",
   "execution_count": 15,
   "metadata": {},
   "outputs": [],
   "source": [
    "# OPTIONAL: Create a function to create Linear Regression plots\n",
    "import scipy.stats as st\n",
    "\n",
    "def linear_regression(a,b):\n",
    "    correlation = st.pearsonr(a, b)\n",
    "    (slope, intercept, rvalue, pvalue, stderr) = st.linregress(a, b)\n",
    "    regress_values = a * slope + intercept\n",
    "    line_eq = \"y = \" + str(round(slope,2)) + \"x + \" + str(round(intercept,2))\n",
    "    plt.scatter(a, b)\n",
    "    plt.plot(a,regress_values,\"r-\")\n",
    "    plt.annotate(line_eq,(a.min(),b.min()),fontsize=15,color=\"red\")\n",
    "    plt.xlabel(\"Latitude\")\n",
    "    print(f\"The r-squared is: {correlation[0]**2}\")"
   ]
  },
  {
   "cell_type": "code",
   "execution_count": 16,
   "metadata": {},
   "outputs": [],
   "source": [
    "# Create Northern and Southern Hemisphere DataFrames\n",
    "northern_df = clean_city_data.loc[clean_city_data[\"Lat\"]>=0]\n",
    "southern_df = clean_city_data.loc[clean_city_data[\"Lat\"]<0]"
   ]
  },
  {
   "cell_type": "markdown",
   "metadata": {},
   "source": [
    "####  Northern Hemisphere - Max Temp vs. Latitude Linear Regression"
   ]
  },
  {
   "cell_type": "code",
   "execution_count": 17,
   "metadata": {},
   "outputs": [
    {
     "name": "stdout",
     "output_type": "stream",
     "text": [
      "The r-squared is: 0.4279834611983273\n"
     ]
    },
    {
     "data": {
      "image/png": "[encoded data removed]",
      "text/plain": [
       "<Figure size 432x288 with 1 Axes>"
      ]
     },
     "metadata": {
      "needs_background": "light"
     },
     "output_type": "display_data"
    }
   ],
   "source": [
    "a = northern_df[\"Lat\"]\n",
    "b = northern_df[\"Max Temp\"]\n",
    "linear_regression(a, b)\n",
    "plt.ylabel(\"Max Temperature (F)\")\n",
    "plt.show()"
   ]
  },
  {
   "cell_type": "markdown",
   "metadata": {},
   "source": [
    "####  Southern Hemisphere - Max Temp vs. Latitude Linear Regression"
   ]
  },
  {
   "cell_type": "code",
   "execution_count": 18,
   "metadata": {},
   "outputs": [
    {
     "name": "stdout",
     "output_type": "stream",
     "text": [
      "The r-squared is: 0.5345409414512728\n"
     ]
    },
    {
     "data": {
      "image/png": "[encoded data removed]",
      "text/plain": [
       "<Figure size 432x288 with 1 Axes>"
      ]
     },
     "metadata": {
      "needs_background": "light"
     },
     "output_type": "display_data"
    }
   ],
   "source": [
    "a = southern_df[\"Lat\"]\n",
    "b = southern_df[\"Max Temp\"]\n",
    "linear_regression(a, b)\n",
    "plt.ylabel(\"Max Temperature (F)\")\n",
    "plt.show()"
   ]
  },
  {
   "cell_type": "markdown",
   "metadata": {},
   "source": [
    "In the Northern Hemisphere, the peak of max temperature of selected cities appears when Latitude is around 25. This is because during Summer time (as of now), the Sun is directly shining at the Tropic of Cancer (latitude = 23.5). In the Southern Hemisphere, the max temperature increases when moving toward equator."
   ]
  },
  {
   "cell_type": "markdown",
   "metadata": {},
   "source": [
    "####  Northern Hemisphere - Humidity (%) vs. Latitude Linear Regression"
   ]
  },
  {
   "cell_type": "code",
   "execution_count": 19,
   "metadata": {},
   "outputs": [
    {
     "name": "stdout",
     "output_type": "stream",
     "text": [
      "The r-squared is: 0.0032667296272150302\n"
     ]
    },
    {
     "data": {
      "image/png": "[encoded data removed]",
      "text/plain": [
       "<Figure size 432x288 with 1 Axes>"
      ]
     },
     "metadata": {
      "needs_background": "light"
     },
     "output_type": "display_data"
    }
   ],
   "source": [
    "a = northern_df[\"Lat\"]\n",
    "b = northern_df[\"Humidity\"]\n",
    "linear_regression(a, b)\n",
    "plt.ylabel(\"Humidity (%)\")\n",
    "plt.show()"
   ]
  },
  {
   "cell_type": "markdown",
   "metadata": {},
   "source": [
    "####  Southern Hemisphere - Humidity (%) vs. Latitude Linear Regression"
   ]
  },
  {
   "cell_type": "code",
   "execution_count": 20,
   "metadata": {},
   "outputs": [
    {
     "name": "stdout",
     "output_type": "stream",
     "text": [
      "The r-squared is: 0.0068848788641410405\n"
     ]
    },
    {
     "data": {
      "image/png": "[encoded data removed]",
      "text/plain": [
       "<Figure size 432x288 with 1 Axes>"
      ]
     },
     "metadata": {
      "needs_background": "light"
     },
     "output_type": "display_data"
    }
   ],
   "source": [
    "a = southern_df[\"Lat\"]\n",
    "b = southern_df[\"Humidity\"]\n",
    "linear_regression(a, b)\n",
    "plt.ylabel(\"Humidity (%)\")\n",
    "plt.show()"
   ]
  },
  {
   "cell_type": "markdown",
   "metadata": {},
   "source": [
    "The Northern Hemisphere is more humid than the Southern Hemisphere, probably because it receives more rain falls."
   ]
  },
  {
   "cell_type": "markdown",
   "metadata": {},
   "source": [
    "####  Northern Hemisphere - Cloudiness (%) vs. Latitude Linear Regression"
   ]
  },
  {
   "cell_type": "code",
   "execution_count": 21,
   "metadata": {},
   "outputs": [
    {
     "name": "stdout",
     "output_type": "stream",
     "text": [
      "The r-squared is: 0.005631219258755289\n"
     ]
    },
    {
     "data": {
      "image/png": "[encoded data removed]",
      "text/plain": [
       "<Figure size 432x288 with 1 Axes>"
      ]
     },
     "metadata": {
      "needs_background": "light"
     },
     "output_type": "display_data"
    }
   ],
   "source": [
    "a = northern_df[\"Lat\"]\n",
    "b = northern_df[\"Cloudiness\"]\n",
    "linear_regression(a, b)\n",
    "plt.ylabel(\"Cloudiness (%)\")\n",
    "plt.show()"
   ]
  },
  {
   "cell_type": "markdown",
   "metadata": {},
   "source": [
    "####  Southern Hemisphere - Cloudiness (%) vs. Latitude Linear Regression"
   ]
  },
  {
   "cell_type": "code",
   "execution_count": 22,
   "metadata": {},
   "outputs": [
    {
     "name": "stdout",
     "output_type": "stream",
     "text": [
      "The r-squared is: 0.0090779324980649\n"
     ]
    },
    {
     "data": {
      "image/png": "[encoded data removed]",
      "text/plain": [
       "<Figure size 432x288 with 1 Axes>"
      ]
     },
     "metadata": {
      "needs_background": "light"
     },
     "output_type": "display_data"
    }
   ],
   "source": [
    "a = southern_df[\"Lat\"]\n",
    "b = southern_df[\"Cloudiness\"]\n",
    "linear_regression(a, b)\n",
    "plt.ylabel(\"Cloudiness (%)\")\n",
    "plt.show()"
   ]
  },
  {
   "cell_type": "markdown",
   "metadata": {},
   "source": [
    "The Northern Hemisphere is more cloudy than the Southern Hemisphere."
   ]
  },
  {
   "cell_type": "markdown",
   "metadata": {},
   "source": [
    "####  Northern Hemisphere - Wind Speed (mph) vs. Latitude Linear Regression"
   ]
  },
  {
   "cell_type": "code",
   "execution_count": 23,
   "metadata": {},
   "outputs": [
    {
     "name": "stdout",
     "output_type": "stream",
     "text": [
      "The r-squared is: 0.0014224295493526005\n"
     ]
    },
    {
     "data": {
      "image/png": "[encoded data removed]",
      "text/plain": [
       "<Figure size 432x288 with 1 Axes>"
      ]
     },
     "metadata": {
      "needs_background": "light"
     },
     "output_type": "display_data"
    }
   ],
   "source": [
    "a = northern_df[\"Lat\"]\n",
    "b = northern_df[\"Wind Speed\"]\n",
    "linear_regression(a, b)\n",
    "plt.ylabel(\"Wind Speed (mph)\")\n",
    "plt.show()"
   ]
  },
  {
   "cell_type": "markdown",
   "metadata": {},
   "source": [
    "####  Southern Hemisphere - Wind Speed (mph) vs. Latitude Linear Regression"
   ]
  },
  {
   "cell_type": "code",
   "execution_count": 24,
   "metadata": {},
   "outputs": [
    {
     "name": "stdout",
     "output_type": "stream",
     "text": [
      "The r-squared is: 9.4378593654592e-07\n"
     ]
    },
    {
     "data": {
      "image/png": "[encoded data removed]",
      "text/plain": [
       "<Figure size 432x288 with 1 Axes>"
      ]
     },
     "metadata": {
      "needs_background": "light"
     },
     "output_type": "display_data"
    }
   ],
   "source": [
    "a = southern_df[\"Lat\"]\n",
    "b = southern_df[\"Wind Speed\"]\n",
    "linear_regression(a, b)\n",
    "plt.ylabel(\"Wind Speed (mph)\")\n",
    "plt.show()"
   ]
  },
  {
   "cell_type": "markdown",
   "metadata": {},
   "source": [
    "The Northern Hemisphere is a little more windy than the Southern Hemisphere."
   ]
  }
 ],
 "metadata": {
  "anaconda-cloud": {},
  "kernel_info": {
   "name": "python3"
  },
  "kernelspec": {
   "display_name": "Python 3",
   "language": "python",
   "name": "python3"
  },
  "language_info": {
   "codemirror_mode": {
    "name": "ipython",
    "version": 3
   },
   "file_extension": ".py",
   "mimetype": "text/x-python",
   "name": "python",
   "nbconvert_exporter": "python",
   "pygments_lexer": "ipython3",
   "version": "3.7.6"
  },
  "latex_envs": {
   "LaTeX_envs_menu_present": true,
   "autoclose": false,
   "autocomplete": true,
   "bibliofile": "biblio.bib",
   "cite_by": "apalike",
   "current_citInitial": 1,
   "eqLabelWithNumbers": true,
   "eqNumInitial": 1,
   "hotkeys": {
    "equation": "Ctrl-E",
    "itemize": "Ctrl-I"
   },
   "labels_anchors": false,
   "latex_user_defs": false,
   "report_style_numbering": false,
   "user_envs_cfg": false
  },
  "nteract": {
   "version": "0.12.3"
  }
 },
 "nbformat": 4,
 "nbformat_minor": 4
}
